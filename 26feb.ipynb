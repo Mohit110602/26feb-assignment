{
 "cells": [
  {
   "cell_type": "code",
   "execution_count": 23,
   "id": "a1e3f952-aa4d-418a-ac9a-cb7a68389b2a",
   "metadata": {},
   "outputs": [],
   "source": [
    "import numpy as np\n",
    "list_ = [ '1' , '2' , '3' , '4', '5' ]\n",
    "array_list = np.array(object = list_)"
   ]
  },
  {
   "cell_type": "code",
   "execution_count": 24,
   "id": "ec38e8dc-b506-490a-9f94-7c8843508b5f",
   "metadata": {},
   "outputs": [
    {
     "name": "stdout",
     "output_type": "stream",
     "text": [
      "<class 'list'>\n",
      "<class 'numpy.ndarray'>\n"
     ]
    }
   ],
   "source": [
    "#1)\n",
    "# The difference in the data type of variables list and array list is that the variable list has 'list' datatype whereas array list as 'numpy.ndarray' datatype. \n",
    "print(type(list_))\n",
    "print(type(array_list))\n"
   ]
  },
  {
   "cell_type": "code",
   "execution_count": 25,
   "id": "6f28f025-0cb6-4290-8f77-1c3b2fd173bf",
   "metadata": {},
   "outputs": [
    {
     "name": "stdout",
     "output_type": "stream",
     "text": [
      "The elements in the list_ are: \n",
      "1 <class 'str'>\n",
      "2 <class 'str'>\n",
      "3 <class 'str'>\n",
      "4 <class 'str'>\n",
      "5 <class 'str'>\n",
      "The elements in the array_list are: \n",
      "1 <class 'numpy.str_'>\n",
      "2 <class 'numpy.str_'>\n",
      "3 <class 'numpy.str_'>\n",
      "4 <class 'numpy.str_'>\n",
      "5 <class 'numpy.str_'>\n"
     ]
    }
   ],
   "source": [
    "#2)\n",
    "print('The elements in the list_ are: ')\n",
    "for i in range(len(list_)):\n",
    "    print(list_[i],type(list_[i]))\n",
    "print('The elements in the array_list are: ')\n",
    "for i in range(len(array_list)):\n",
    "    print(array_list[i], type(array_list[i]))"
   ]
  },
  {
   "cell_type": "code",
   "execution_count": 26,
   "id": "7f15b2d0-5adc-48bd-93d1-60502c254edb",
   "metadata": {},
   "outputs": [],
   "source": [
    "array_list = np.array(object = list_, dtype = int)"
   ]
  },
  {
   "cell_type": "code",
   "execution_count": 27,
   "id": "5e3d4b07-6cf4-4681-894f-fffda30feaff",
   "metadata": {},
   "outputs": [
    {
     "name": "stdout",
     "output_type": "stream",
     "text": [
      "The elements in the list_ are: \n",
      "1 <class 'str'>\n",
      "2 <class 'str'>\n",
      "3 <class 'str'>\n",
      "4 <class 'str'>\n",
      "5 <class 'str'>\n",
      "The elements in the array_list are: \n",
      "1 <class 'numpy.int64'>\n",
      "2 <class 'numpy.int64'>\n",
      "3 <class 'numpy.int64'>\n",
      "4 <class 'numpy.int64'>\n",
      "5 <class 'numpy.int64'>\n"
     ]
    }
   ],
   "source": [
    "#3)\n",
    "# Yes the difference is the variable list_ will be having 'String' datatype whereas array_list will be having 'int' datatype.\n",
    "print('The elements in the list_ are: ')\n",
    "for i in range(len(list_)):\n",
    "    print(list_[i],type(list_[i]))\n",
    "print('The elements in the array_list are: ')\n",
    "for i in range(len(array_list)):\n",
    "    print(array_list[i], type(array_list[i]))"
   ]
  },
  {
   "cell_type": "code",
   "execution_count": 28,
   "id": "5b3bbd65-4f2d-4c13-8109-875d8ecbff43",
   "metadata": {},
   "outputs": [],
   "source": [
    "import numpy as np\n",
    "num_list = [ [ 1 , 2 , 3 ] , [ 4 , 5 , 6 ] ]\n",
    "num_array = np.array(object = num_list)"
   ]
  },
  {
   "cell_type": "code",
   "execution_count": 33,
   "id": "d821ae77-bd72-4c2d-b4f6-be9eadef1cff",
   "metadata": {},
   "outputs": [
    {
     "name": "stdout",
     "output_type": "stream",
     "text": [
      "The shape of the num_array is: (2, 3)\n",
      "The size of the num_array is: 6\n"
     ]
    }
   ],
   "source": [
    "#4)\n",
    "#i)\n",
    "print('The shape of the num_array is:',num_array.shape)\n",
    "#ii)\n",
    "print('The size of the num_array is:',num_array.size)"
   ]
  },
  {
   "cell_type": "code",
   "execution_count": 43,
   "id": "a5db3ac1-8096-48d8-9e48-b7623dc3d715",
   "metadata": {},
   "outputs": [
    {
     "name": "stdout",
     "output_type": "stream",
     "text": [
      "[[0. 0. 0.]\n",
      " [0. 0. 0.]\n",
      " [0. 0. 0.]]\n",
      "The shape of the array is: (3, 3)\n",
      "The size of the array is: 9\n"
     ]
    }
   ],
   "source": [
    "#5)\n",
    "ar_zeros=np.zeros((3,3))\n",
    "print(ar_zeros)\n",
    "print('The shape of the array is:',ar_zeros.shape)\n",
    "print('The size of the array is:',ar_zeros.size)"
   ]
  },
  {
   "cell_type": "code",
   "execution_count": 45,
   "id": "7bd5473e-11d3-4e83-8d3e-58a13740d764",
   "metadata": {},
   "outputs": [
    {
     "data": {
      "text/plain": [
       "array([[1., 0., 0., 0., 0.],\n",
       "       [0., 1., 0., 0., 0.],\n",
       "       [0., 0., 1., 0., 0.],\n",
       "       [0., 0., 0., 1., 0.],\n",
       "       [0., 0., 0., 0., 1.]])"
      ]
     },
     "execution_count": 45,
     "metadata": {},
     "output_type": "execute_result"
    }
   ],
   "source": [
    "#6)\n",
    "iden=np.eye(5)\n",
    "iden"
   ]
  },
  {
   "cell_type": "code",
   "execution_count": null,
   "id": "755f0aa7-4ee9-4999-8dfd-77f2ff452100",
   "metadata": {},
   "outputs": [],
   "source": []
  }
 ],
 "metadata": {
  "kernelspec": {
   "display_name": "Python 3 (ipykernel)",
   "language": "python",
   "name": "python3"
  },
  "language_info": {
   "codemirror_mode": {
    "name": "ipython",
    "version": 3
   },
   "file_extension": ".py",
   "mimetype": "text/x-python",
   "name": "python",
   "nbconvert_exporter": "python",
   "pygments_lexer": "ipython3",
   "version": "3.10.8"
  }
 },
 "nbformat": 4,
 "nbformat_minor": 5
}
